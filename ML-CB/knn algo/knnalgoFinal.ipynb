{
 "cells": [
  {
   "cell_type": "code",
   "execution_count": 19,
   "metadata": {},
   "outputs": [
    {
     "name": "stdout",
     "output_type": "stream",
     "text": [
      "0.0\n",
      "None\n"
     ]
    },
    {
     "data": {
      "image/png": "[encoded data removed]",
      "text/plain": [
       "<matplotlib.figure.Figure at 0x6280c30>"
      ]
     },
     "metadata": {},
     "output_type": "display_data"
    }
   ],
   "source": [
    "from jupyterthemes import jtplot\n",
    "jtplot.style()\n",
    "import numpy as np\n",
    "from matplotlib import pyplot as plt\n",
    "\n",
    "mean_01 = np.array([3.0,4.0])\n",
    "\n",
    "\n",
    "#Lemons are sour, avg sweetness will low, they have some low value for color\n",
    "# Red values is higher, Yellow Lower\n",
    "# Sweetness is higher, Sourness Lower\n",
    "\n",
    "cov_01 = np.array([[1.0,-0.5],[-0.5,1.0]])\n",
    "\n",
    "\n",
    "mean_02 = np.array([0.0,-1.0])\n",
    "\n",
    "\n",
    "cov_02 = np.array([[1,0.5],[0.5,0.6]])\n",
    "\n",
    "dist_01 = np.random.multivariate_normal(mean_01,cov_01,200)\n",
    "dist_02 = np.random.multivariate_normal(mean_02,cov_02,200)\n",
    "\n",
    "#print dist_01.shape\n",
    "#print dist_02.shape\n",
    "#print dist_01\n",
    "\n",
    "\n",
    "#scatter plot \n",
    "plt.figure(0)\n",
    "for x in range(dist_01.shape[0]):\n",
    "    plt.scatter(dist_01[x,0],dist_01[x,1],color='red')\n",
    "    plt.scatter(dist_02[x,0],dist_02[x,1],color='blue')\n",
    "#plt.show()\n",
    "\n",
    "\n",
    "# Training Data Preparation\n",
    "\n",
    "# 400 Samples - 200 Apples, 200 for Lemons\n",
    "\n",
    "labels = np.zeros((400,1))\n",
    "labels[200:] = 1.0\n",
    "\n",
    "X_data = np.zeros((400,2))\n",
    "X_data[:200,:] = dist_01\n",
    "X_data[200: ,:] = dist_02\n",
    "\n",
    "#print X_data\n",
    "#print labels\n",
    "\n",
    "#knn algorithm \n",
    "\n",
    "#Eucildean Distance\n",
    "def dist(x1,x2):\n",
    "    return np.sqrt(((x1-x2)**2).sum())\n",
    "\n",
    "x1 =  np.array([0.0,0.0])\n",
    "x2 =  np.array([1.0,1.0])\n",
    "\n",
    "#print dist(x1,x2)\n",
    "\n",
    "#query is point to predict and k is no of points to look at mostly keep odd no\n",
    "def knn(x_train,query_point,y_train,k=5):\n",
    "    vals = []\n",
    "    \n",
    "    for ix in range(x_train.shape[0]):\n",
    "        v =  [dist(query_point,x_train[ix,:]),y_train[ix]]\n",
    "        vals.append(v)\n",
    "    #vals is containing distance and their lables\n",
    "    #rint vals\n",
    "    \n",
    "    \n",
    "    #sorting array and then printing the data\n",
    "    updated_vals =  sorted(vals)\n",
    "    \n",
    "    #print sorted data\n",
    "    #print updated vals\n",
    "    \n",
    "    #preditcing value: storing only 1st k values in array\n",
    "    pred_arr =  np.asarray(updated_vals[:k])\n",
    "    pred_arr = np.unique(pred_arr[:,1],return_counts =  True)\n",
    "    \n",
    "    #largest occurence of element\n",
    "    index  = pred_arr[1].argmax()\n",
    "    #printing predicted array/elemeents\n",
    "    print pred_arr[0][index]\n",
    "    \n",
    "#this is query point which is created manual for testing purpose\n",
    "q  = np.array([0.0,4.0])\n",
    "\n",
    "predicted_label  = knn(X_data,q,labels)\n",
    "print predicted_label\n",
    "    \n"
   ]
  },
  {
   "cell_type": "code",
   "execution_count": null,
   "metadata": {},
   "outputs": [],
   "source": []
  },
  {
   "cell_type": "code",
   "execution_count": null,
   "metadata": {},
   "outputs": [],
   "source": []
  },
  {
   "cell_type": "code",
   "execution_count": null,
   "metadata": {},
   "outputs": [],
   "source": []
  },
  {
   "cell_type": "code",
   "execution_count": null,
   "metadata": {},
   "outputs": [],
   "source": []
  },
  {
   "cell_type": "code",
   "execution_count": null,
   "metadata": {},
   "outputs": [],
   "source": []
  },
  {
   "cell_type": "code",
   "execution_count": null,
   "metadata": {},
   "outputs": [],
   "source": []
  },
  {
   "cell_type": "code",
   "execution_count": null,
   "metadata": {},
   "outputs": [],
   "source": []
  },
  {
   "cell_type": "code",
   "execution_count": null,
   "metadata": {},
   "outputs": [],
   "source": []
  },
  {
   "cell_type": "code",
   "execution_count": null,
   "metadata": {},
   "outputs": [],
   "source": []
  },
  {
   "cell_type": "code",
   "execution_count": null,
   "metadata": {},
   "outputs": [],
   "source": []
  },
  {
   "cell_type": "code",
   "execution_count": null,
   "metadata": {},
   "outputs": [],
   "source": []
  },
  {
   "cell_type": "code",
   "execution_count": null,
   "metadata": {},
   "outputs": [],
   "source": []
  },
  {
   "cell_type": "code",
   "execution_count": null,
   "metadata": {},
   "outputs": [],
   "source": []
  },
  {
   "cell_type": "code",
   "execution_count": null,
   "metadata": {},
   "outputs": [],
   "source": []
  },
  {
   "cell_type": "code",
   "execution_count": null,
   "metadata": {},
   "outputs": [],
   "source": []
  },
  {
   "cell_type": "code",
   "execution_count": null,
   "metadata": {},
   "outputs": [],
   "source": []
  },
  {
   "cell_type": "code",
   "execution_count": null,
   "metadata": {},
   "outputs": [],
   "source": []
  },
  {
   "cell_type": "code",
   "execution_count": null,
   "metadata": {},
   "outputs": [],
   "source": []
  },
  {
   "cell_type": "code",
   "execution_count": null,
   "metadata": {},
   "outputs": [],
   "source": []
  },
  {
   "cell_type": "code",
   "execution_count": null,
   "metadata": {},
   "outputs": [],
   "source": []
  }
 ],
 "metadata": {
  "kernelspec": {
   "display_name": "Python 2",
   "language": "python",
   "name": "python2"
  },
  "language_info": {
   "codemirror_mode": {
    "name": "ipython",
    "version": 2
   },
   "file_extension": ".py",
   "mimetype": "text/x-python",
   "name": "python",
   "nbconvert_exporter": "python",
   "pygments_lexer": "ipython2",
   "version": "2.7.14"
  }
 },
 "nbformat": 4,
 "nbformat_minor": 2
}
